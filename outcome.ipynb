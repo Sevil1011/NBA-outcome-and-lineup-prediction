{
 "cells": [
  {
   "cell_type": "markdown",
   "metadata": {
    "id": "TIXXcJvL2pIs"
   },
   "source": [
    "Simply applying encoding from the sklearn library leads to different codes for a player (team) when it appears in different columns.\n",
    "\n",
    "\n",
    "1. Only mapping each player (team) to a unique integer, regardless of the column is not good\n",
    "\n",
    "2. scaling: (CHATGPT:) It is not necessary to use a scaler for categorical features (players and teams) after encoding them with integer values. Scalers are typically used for numerical features to ensure that all features are on the same scale, which can be important for certain machine learning algorithms, particularly those that involve distance calculations or gradient descent optimization. Categorical features that have been encoded with integer values do not require scaling because the integers are used merely as identifiers or labels and do not carry any magnitude or order information. These encoded categorical features are typically treated as discrete variables during model training and inference.\n",
    "\n"
   ]
  },
  {
   "cell_type": "markdown",
   "metadata": {
    "id": "eNmYZduOnd-7"
   },
   "source": [
    "Onehot encoding on the mapped integers is not also good! Since the number of features increases 10 times! Instead we change the data to present_as_home/not-present/present-as-away for each team and player for each row! In this way, we have exactly one column for all teams per row (two of them get the value of 1 and -1 and the rest are 0), and one column for each player per row (5 of them get 1, 5 get -1, and the other ones are 0).\n",
    "\n",
    "\n",
    "Also Scaling must be applied on only non-categorical features."
   ]
  },
  {
   "cell_type": "code",
   "execution_count": 1,
   "metadata": {
    "colab": {
     "base_uri": "https://localhost:8080/"
    },
    "id": "pnb2Fl8bHUP_",
    "outputId": "7de81def-3dcf-4024-fd15-c3fae1e4713e"
   },
   "outputs": [
    {
     "name": "stdout",
     "output_type": "stream",
     "text": [
      "27500\n",
      "26593\n",
      "26407\n",
      "26344\n",
      "26447\n",
      "len of final df: 133291\n",
      "first print \n",
      "        outcome  season home_team away_team  starting_min  end_min  \\\n",
      "0            -1    2007       LAL       PHO             0        5   \n",
      "1            -1    2007       LAL       PHO             6        7   \n",
      "2             1    2007       LAL       PHO             8        9   \n",
      "3             1    2007       LAL       PHO            10       10   \n",
      "4            -1    2007       LAL       PHO            11       11   \n",
      "...         ...     ...       ...       ...           ...      ...   \n",
      "133286       -1    2011       CHA       MIL            37       37   \n",
      "133287       -1    2011       CHA       MIL            38       38   \n",
      "133288       -1    2011       CHA       MIL            39       39   \n",
      "133289       -1    2011       CHA       MIL            40       43   \n",
      "133290       -1    2011       CHA       MIL            44       47   \n",
      "\n",
      "              home_0            home_1            home_2            home_3  \\\n",
      "0       Andrew Bynum        Lamar Odom       Luke Walton     Sasha Vujacic   \n",
      "1       Andrew Bynum        Lamar Odom       Luke Walton     Sasha Vujacic   \n",
      "2         Lamar Odom       Luke Walton     Maurice Evans      Ronny Turiaf   \n",
      "3         Lamar Odom       Luke Walton     Maurice Evans      Ronny Turiaf   \n",
      "4        Luke Walton     Maurice Evans      Ronny Turiaf      Smush Parker   \n",
      "...              ...               ...               ...               ...   \n",
      "133286    Boris Diaw        D.J. White  Gerald Henderson  Shaun Livingston   \n",
      "133287    Boris Diaw     D.J. Augustin        D.J. White  Dante Cunningham   \n",
      "133288    Boris Diaw        D.J. White  Dante Cunningham    Garrett Temple   \n",
      "133289    Boris Diaw        D.J. White  Dante Cunningham    Garrett Temple   \n",
      "133290    Boris Diaw  Dante Cunningham    Garrett Temple  Gerald Henderson   \n",
      "\n",
      "                     home_4             away_0            away_1  \\\n",
      "0              Smush Parker         Boris Diaw       Kurt Thomas   \n",
      "1              Smush Parker  Amar'e Stoudemire   Leandro Barbosa   \n",
      "2              Smush Parker  Amar'e Stoudemire   Leandro Barbosa   \n",
      "3              Smush Parker         Boris Diaw       James Jones   \n",
      "4       Vladimir Radmanovic         Boris Diaw       James Jones   \n",
      "...                     ...                ...               ...   \n",
      "133286      Stephen Jackson   Brandon Jennings    Carlos Delfino   \n",
      "133287         Matt Carroll   Brandon Jennings    Carlos Delfino   \n",
      "133288         Matt Carroll       Andrew Bogut  Brandon Jennings   \n",
      "133289         Matt Carroll       Andrew Bogut  Brandon Jennings   \n",
      "133290      Stephen Jackson       Andrew Bogut  Brandon Jennings   \n",
      "\n",
      "                away_2           away_3            away_4  \n",
      "0            Raja Bell     Shawn Marion        Steve Nash  \n",
      "1            Raja Bell     Shawn Marion        Steve Nash  \n",
      "2            Raja Bell     Shawn Marion        Steve Nash  \n",
      "3          Kurt Thomas  Leandro Barbosa      Marcus Banks  \n",
      "4          Kurt Thomas  Leandro Barbosa      Marcus Banks  \n",
      "...                ...              ...               ...  \n",
      "133286     Drew Gooden    Keyon Dooling     Larry Sanders  \n",
      "133287     Drew Gooden    Keyon Dooling     Larry Sanders  \n",
      "133288  Carlos Delfino      Drew Gooden     Keyon Dooling  \n",
      "133289  Carlos Delfino      Drew Gooden      John Salmons  \n",
      "133290  Carlos Delfino     John Salmons  Luc Mbah a Moute  \n",
      "\n",
      "[133291 rows x 16 columns]\n",
      "(133291, 16)\n",
      "print after encode teams names \n",
      "        outcome  season  starting_min  end_min        home_0  \\\n",
      "0            -1    2007             0        5  Andrew Bynum   \n",
      "1            -1    2007             6        7  Andrew Bynum   \n",
      "2             1    2007             8        9    Lamar Odom   \n",
      "3             1    2007            10       10    Lamar Odom   \n",
      "4            -1    2007            11       11   Luke Walton   \n",
      "...         ...     ...           ...      ...           ...   \n",
      "133286       -1    2011            37       37    Boris Diaw   \n",
      "133287       -1    2011            38       38    Boris Diaw   \n",
      "133288       -1    2011            39       39    Boris Diaw   \n",
      "133289       -1    2011            40       43    Boris Diaw   \n",
      "133290       -1    2011            44       47    Boris Diaw   \n",
      "\n",
      "                  home_1            home_2            home_3  \\\n",
      "0             Lamar Odom       Luke Walton     Sasha Vujacic   \n",
      "1             Lamar Odom       Luke Walton     Sasha Vujacic   \n",
      "2            Luke Walton     Maurice Evans      Ronny Turiaf   \n",
      "3            Luke Walton     Maurice Evans      Ronny Turiaf   \n",
      "4          Maurice Evans      Ronny Turiaf      Smush Parker   \n",
      "...                  ...               ...               ...   \n",
      "133286        D.J. White  Gerald Henderson  Shaun Livingston   \n",
      "133287     D.J. Augustin        D.J. White  Dante Cunningham   \n",
      "133288        D.J. White  Dante Cunningham    Garrett Temple   \n",
      "133289        D.J. White  Dante Cunningham    Garrett Temple   \n",
      "133290  Dante Cunningham    Garrett Temple  Gerald Henderson   \n",
      "\n",
      "                     home_4             away_0  ... CLE MIN DEN SEA  ATL  IND  \\\n",
      "0              Smush Parker         Boris Diaw  ...   0   0   0   0    0    0   \n",
      "1              Smush Parker  Amar'e Stoudemire  ...   0   0   0   0    0    0   \n",
      "2              Smush Parker  Amar'e Stoudemire  ...   0   0   0   0    0    0   \n",
      "3              Smush Parker         Boris Diaw  ...   0   0   0   0    0    0   \n",
      "4       Vladimir Radmanovic         Boris Diaw  ...   0   0   0   0    0    0   \n",
      "...                     ...                ...  ...  ..  ..  ..  ..  ...  ...   \n",
      "133286      Stephen Jackson   Brandon Jennings  ...   0   0   0   0    0    0   \n",
      "133287         Matt Carroll   Brandon Jennings  ...   0   0   0   0    0    0   \n",
      "133288         Matt Carroll       Andrew Bogut  ...   0   0   0   0    0    0   \n",
      "133289         Matt Carroll       Andrew Bogut  ...   0   0   0   0    0    0   \n",
      "133290      Stephen Jackson       Andrew Bogut  ...   0   0   0   0    0    0   \n",
      "\n",
      "        PHI  NOK  NOH  OKC  \n",
      "0         0    0    0    0  \n",
      "1         0    0    0    0  \n",
      "2         0    0    0    0  \n",
      "3         0    0    0    0  \n",
      "4         0    0    0    0  \n",
      "...     ...  ...  ...  ...  \n",
      "133286    0    0    0    0  \n",
      "133287    0    0    0    0  \n",
      "133288    0    0    0    0  \n",
      "133289    0    0    0    0  \n",
      "133290    0    0    0    0  \n",
      "\n",
      "[133291 rows x 46 columns]\n",
      "print after encode players names \n",
      "        outcome  season  starting_min  end_min  LAL  PHO  LAC  SAS  UTA  GSW  \\\n",
      "0            -1    2007             0        5    1   -1    0    0    0    0   \n",
      "1            -1    2007             6        7    1   -1    0    0    0    0   \n",
      "2             1    2007             8        9    1   -1    0    0    0    0   \n",
      "3             1    2007            10       10    1   -1    0    0    0    0   \n",
      "4            -1    2007            11       11    1   -1    0    0    0    0   \n",
      "...         ...     ...           ...      ...  ...  ...  ...  ...  ...  ...   \n",
      "133286       -1    2011            37       37    0    0    0    0    0    0   \n",
      "133287       -1    2011            38       38    0    0    0    0    0    0   \n",
      "133288       -1    2011            39       39    0    0    0    0    0    0   \n",
      "133289       -1    2011            40       43    0    0    0    0    0    0   \n",
      "133290       -1    2011            44       47    0    0    0    0    0    0   \n",
      "\n",
      "        ...  James Anderson  Devin Ebanks  Lance Stephenson  Gani Lawal  \\\n",
      "0       ...               0             0                 0           0   \n",
      "1       ...               0             0                 0           0   \n",
      "2       ...               0             0                 0           0   \n",
      "3       ...               0             0                 0           0   \n",
      "4       ...               0             0                 0           0   \n",
      "...     ...             ...           ...               ...         ...   \n",
      "133286  ...               0             0                 0           0   \n",
      "133287  ...               0             0                 0           0   \n",
      "133288  ...               0             0                 0           0   \n",
      "133289  ...               0             0                 0           0   \n",
      "133290  ...               0             0                 0           0   \n",
      "\n",
      "        Solomon Alabi  Craig Brackins  Dexter Pittman  Marcus Cousin  \\\n",
      "0                   0               0               0              0   \n",
      "1                   0               0               0              0   \n",
      "2                   0               0               0              0   \n",
      "3                   0               0               0              0   \n",
      "4                   0               0               0              0   \n",
      "...               ...             ...             ...            ...   \n",
      "133286              0               0               0              0   \n",
      "133287              0               0               0              0   \n",
      "133288              0               0               0              0   \n",
      "133289              0               0               0              0   \n",
      "133290              0               0               0              0   \n",
      "\n",
      "        Patrick Ewing  Pape Sy  \n",
      "0                   0        0  \n",
      "1                   0        0  \n",
      "2                   0        0  \n",
      "3                   0        0  \n",
      "4                   0        0  \n",
      "...               ...      ...  \n",
      "133286              0        0  \n",
      "133287              0        0  \n",
      "133288              0        0  \n",
      "133289              0        0  \n",
      "133290              0        0  \n",
      "\n",
      "[133291 rows x 764 columns]\n",
      "size: 101834324\n",
      "print X_train after encoding and scaling \n",
      "          season  starting_min   end_min  LAL  PHO  LAC  SAS  UTA  GSW  POR  \\\n",
      "0      -1.396228     -1.895262 -1.641644    1   -1    0    0    0    0    0   \n",
      "1      -1.396228     -1.433104 -1.483906    1   -1    0    0    0    0    0   \n",
      "2      -1.396228     -1.279052 -1.326169    1   -1    0    0    0    0    0   \n",
      "3      -1.396228     -1.124999 -1.247301    1   -1    0    0    0    0    0   \n",
      "4      -1.396228     -1.047973 -1.168432    1   -1    0    0    0    0    0   \n",
      "...          ...           ...       ...  ...  ...  ...  ...  ...  ...  ...   \n",
      "133286  1.421117      0.954712  0.882152    0    0    0    0    0    0    0   \n",
      "133287  1.421117      1.031738  0.961021    0    0    0    0    0    0    0   \n",
      "133288  1.421117      1.108765  1.039889    0    0    0    0    0    0    0   \n",
      "133289  1.421117      1.185791  1.355364    0    0    0    0    0    0    0   \n",
      "133290  1.421117      1.493896  1.670838    0    0    0    0    0    0    0   \n",
      "\n",
      "        ...  James Anderson  Devin Ebanks  Lance Stephenson  Gani Lawal  \\\n",
      "0       ...               0             0                 0           0   \n",
      "1       ...               0             0                 0           0   \n",
      "2       ...               0             0                 0           0   \n",
      "3       ...               0             0                 0           0   \n",
      "4       ...               0             0                 0           0   \n",
      "...     ...             ...           ...               ...         ...   \n",
      "133286  ...               0             0                 0           0   \n",
      "133287  ...               0             0                 0           0   \n",
      "133288  ...               0             0                 0           0   \n",
      "133289  ...               0             0                 0           0   \n",
      "133290  ...               0             0                 0           0   \n",
      "\n",
      "        Solomon Alabi  Craig Brackins  Dexter Pittman  Marcus Cousin  \\\n",
      "0                   0               0               0              0   \n",
      "1                   0               0               0              0   \n",
      "2                   0               0               0              0   \n",
      "3                   0               0               0              0   \n",
      "4                   0               0               0              0   \n",
      "...               ...             ...             ...            ...   \n",
      "133286              0               0               0              0   \n",
      "133287              0               0               0              0   \n",
      "133288              0               0               0              0   \n",
      "133289              0               0               0              0   \n",
      "133290              0               0               0              0   \n",
      "\n",
      "        Patrick Ewing  Pape Sy  \n",
      "0                   0        0  \n",
      "1                   0        0  \n",
      "2                   0        0  \n",
      "3                   0        0  \n",
      "4                   0        0  \n",
      "...               ...      ...  \n",
      "133286              0        0  \n",
      "133287              0        0  \n",
      "133288              0        0  \n",
      "133289              0        0  \n",
      "133290              0        0  \n",
      "\n",
      "[133291 rows x 763 columns]\n",
      "\n"
     ]
    }
   ],
   "source": [
    "import pandas as pd\n",
    "from sklearn.metrics import confusion_matrix\n",
    "from sklearn.model_selection import train_test_split\n",
    "from sklearn.preprocessing import StandardScaler\n",
    "from sklearn.linear_model import LogisticRegression\n",
    "from sklearn.metrics import accuracy_score, precision_score, recall_score, f1_score\n",
    "import os\n",
    "#from sklearn.preprocessing import OneHotEncoder\n",
    "\"\"\"from google.colab import drive\n",
    "\n",
    "\n",
    "drive.mount('/content/drive')\n",
    "ds_path = '/content/drive/MyDrive/Data_Mining_Project/Datasets/'\"\"\"\n",
    "\n",
    "ds_path = 'Datasets/'\n",
    "assert os.path.exists(ds_path)\n",
    "\n",
    "features = ['outcome', 'season', 'home_team','away_team','starting_min','end_min','home_0','home_1','home_2','home_3','home_4','away_0','away_1','away_2','away_3','away_4']\n",
    "home_players_columns = ['home_0','home_1','home_2','home_3','home_4']\n",
    "away_players_columns = ['away_0','away_1','away_2','away_3','away_4']\n",
    "\n",
    "\n",
    "df = pd.DataFrame()\n",
    "# Load data from matchups-2007.csv to matchups-2011.csv and append them to df\n",
    "for i in range(2007, 2012):\n",
    "    df1 = pd.read_csv(ds_path + \"matchups-\" + str(i) + \".csv\")[features]\n",
    "    print(len(df1))\n",
    "    df = pd.concat([df, df1])\n",
    "df.reset_index(drop=True, inplace=True)\n",
    "print(f\"len of final df: {len(df)}\")\n",
    "print(\"first print \\n\" + str(df))\n",
    "print(df.shape)\n",
    "\n",
    "\n",
    "def encode_teams_names(df):\n",
    "    global unique_teams\n",
    "    # Get unique team names\n",
    "    unique_teams = pd.concat([df['home_team'], df['away_team']]).unique()\n",
    "    # Initialize a DataFrame with all zeros\n",
    "    encoded_df = pd.DataFrame(0, index=df.index, columns=unique_teams)\n",
    "    # Set values for home teams and away teams\n",
    "    for i in range(df.shape[0]):\n",
    "      encoded_df.loc[i, df.loc[i, 'home_team']] = 1\n",
    "      encoded_df.loc[i, df.loc[i, 'away_team']] = -1\n",
    "    #encoded_df[df['home_team']] = 1 # works incorrect\n",
    "    #encoded_df[df['away_team']] = -1 # works incorrect\n",
    "    # Concatenate the encoded team DataFrame with the original DataFrame\n",
    "    df = pd.concat([df, encoded_df], axis=1)\n",
    "    # Drop the original home_team and away_team columns\n",
    "    df = df.drop(['home_team', 'away_team'], axis=1)\n",
    "    return df\n",
    "\n",
    "\n",
    "def encode_player_names(df):\n",
    "    global all_players\n",
    "    # Get unique player names\n",
    "    all_players = df[home_players_columns + away_players_columns].stack().unique()\n",
    "    # Initialize a DataFrame with all zeros\n",
    "    encoded_df = pd.DataFrame(0, index=df.index, columns=all_players)\n",
    "    # Set values for home team players and away team players\n",
    "    for i in range(df.shape[0]):\n",
    "      encoded_df.loc[i, df.loc[i, home_players_columns]] = 1\n",
    "      encoded_df.loc[i, df.loc[i, away_players_columns]] = -1\n",
    "    #encoded_df[df[home_players_columns]] = 1\n",
    "    #encoded_df[df[away_players_columns]] = -1\n",
    "    # Concatenate the encoded player DataFrame with the original DataFrame\n",
    "    df = pd.concat([df, encoded_df], axis=1)\n",
    "    # Drop the original player columns\n",
    "    df = df.drop(home_players_columns + away_players_columns, axis=1)\n",
    "    return df\n",
    "\n",
    "\n",
    "\n",
    "\n",
    "\n",
    "\n",
    "\n",
    "\n",
    "df = encode_teams_names(df)\n",
    "print(\"print after encode teams names \\n\" + str(df))\n",
    "#print(df[['LAL', 'PHO', 'MIL', 'CHA']])\n",
    "df = encode_player_names(df)\n",
    "print(\"print after encode players names \\n\" + str(df))\n",
    "#print(df[['Smush Parker', 'Boris Diaw', 'Matt Carroll']]) # CHECKED AND CORRECT SO FAR\n",
    "print(f\"size: {df.size}\")\n",
    "\n",
    "X_train = df.drop(\"outcome\", axis=1)\n",
    "y_train = df[\"outcome\"]\n",
    "\n",
    "\n",
    "# Feature scaling\n",
    "columns_to_scale = ['season', 'starting_min', 'end_min']\n",
    "scaler = StandardScaler()\n",
    "X_train[columns_to_scale] = scaler.fit_transform(X_train[columns_to_scale])\n",
    "\n",
    "print(\"print X_train after encoding and scaling \\n\" + str(X_train))\n",
    "print()"
   ]
  },
  {
   "cell_type": "markdown",
   "metadata": {
    "id": "5lr4io2yox5-"
   },
   "source": [
    "So the number of features increased to 763 + 1 target.\n",
    "\n",
    "The number of training samples is 133,291. We will use 20% of them for validation during training each model.\n",
    "\n",
    "Overall, a large number of features is not good, but considering the high number of categorical features and also categories, it is the best possible way."
   ]
  },
  {
   "cell_type": "code",
   "execution_count": 6,
   "metadata": {},
   "outputs": [
    {
     "name": "stdout",
     "output_type": "stream",
     "text": [
      "         season  starting_min   end_min  LAL  PHO  LAC  SAS  UTA  GSW  POR  \\\n",
      "0      2.125453     -1.895262 -1.641644    0    0    0    0    0    0    0   \n",
      "1      2.125453     -1.433104 -1.562775    0    0    0    0    0    0    0   \n",
      "2      2.125453     -1.356078 -1.405038    0    0    0    0    0    0    0   \n",
      "3      2.125453     -1.202025 -1.247301    0    0    0    0    0    0    0   \n",
      "4      2.125453     -1.047973 -1.168432    0    0    0    0    0    0    0   \n",
      "...         ...           ...       ...  ...  ...  ...  ...  ...  ...  ...   \n",
      "21236  2.125453      1.031738  1.039889    0    0    0    0    0    0    0   \n",
      "21237  2.125453      1.185791  1.197626    0    0    0    0    0    0    0   \n",
      "21238  2.125453      1.339844  1.276495    0    0    0    0    0    0    0   \n",
      "21239  2.125453      1.416870  1.513101    0    0    0    0    0    0    0   \n",
      "21240  2.125453      1.647949  1.670838    0    0    0    0    0    0    0   \n",
      "\n",
      "       ...  James Anderson  Devin Ebanks  Lance Stephenson  Gani Lawal  \\\n",
      "0      ...               0             0                 0           0   \n",
      "1      ...               0             0                 0           0   \n",
      "2      ...               0             0                 0           0   \n",
      "3      ...               0             0                 0           0   \n",
      "4      ...               0             0                 0           0   \n",
      "...    ...             ...           ...               ...         ...   \n",
      "21236  ...               0             0                 0           0   \n",
      "21237  ...               0             0                 0           0   \n",
      "21238  ...               0             0                 0           0   \n",
      "21239  ...               0             0                 0           0   \n",
      "21240  ...               0             0                 0           0   \n",
      "\n",
      "       Solomon Alabi  Craig Brackins  Dexter Pittman  Marcus Cousin  \\\n",
      "0                  0               0               0              0   \n",
      "1                  0               0               0              0   \n",
      "2                  0               0               0              0   \n",
      "3                  0               0               0              0   \n",
      "4                  0               0               0              0   \n",
      "...              ...             ...             ...            ...   \n",
      "21236              0               0               0              0   \n",
      "21237              0               0               0              0   \n",
      "21238              0               0               0              0   \n",
      "21239              0               0               0              0   \n",
      "21240              0               0               0              0   \n",
      "\n",
      "       Patrick Ewing  Pape Sy  \n",
      "0                  0        0  \n",
      "1                  0        0  \n",
      "2                  0        0  \n",
      "3                  0        0  \n",
      "4                  0        0  \n",
      "...              ...      ...  \n",
      "21236              0        0  \n",
      "21237              0        0  \n",
      "21238              0        0  \n",
      "21239              0        0  \n",
      "21240              0        0  \n",
      "\n",
      "[21241 rows x 763 columns]\n",
      "0        1\n",
      "1       -1\n",
      "2       -1\n",
      "3       -1\n",
      "4       -1\n",
      "        ..\n",
      "21236   -1\n",
      "21237   -1\n",
      "21238   -1\n",
      "21239   -1\n",
      "21240   -1\n",
      "Name: outcome, Length: 21241, dtype: int64\n"
     ]
    }
   ],
   "source": [
    "# Load data from matchups_2012.csv and append it to df\n",
    "df_valid = pd.read_csv(ds_path + \"matchups-2012.csv\")[features]\n",
    "\n",
    "def encode_valid_df_based_on_train(valid_df):\n",
    "    encoded_df = pd.DataFrame(0, index=valid_df.index, columns=list(unique_teams) + list(all_players))\n",
    "    for i in range(valid_df.shape[0]):\n",
    "          encoded_df.loc[i, valid_df.loc[i, home_players_columns + ['home_team']]] = 1\n",
    "          encoded_df.loc[i, valid_df.loc[i, away_players_columns + ['away_team']]] = -1\n",
    "    valid_df = pd.concat([valid_df, encoded_df], axis=1)\n",
    "    # Drop the original player columns\n",
    "    valid_df = valid_df.drop(home_players_columns + away_players_columns + ['home_team', 'away_team'], axis=1)\n",
    "    valid_df = valid_df.dropna(axis='columns')\n",
    "    return valid_df\n",
    "\n",
    "\n",
    "df_valid = encode_valid_df_based_on_train(df_valid)\n",
    "X_test = df_valid.drop(\"outcome\", axis=1)\n",
    "y_test = df_valid[\"outcome\"]\n",
    "\n",
    "\n",
    "X_test[columns_to_scale] = scaler.transform(X_test[columns_to_scale])\n",
    "print(X_test)\n",
    "print(y_test)"
   ]
  },
  {
   "cell_type": "markdown",
   "metadata": {},
   "source": [
    "The number of test samples is 21241 (and 763 columns), which are from the 2012 dataset.\n",
    "\n",
    "However, there are some new players and teams..."
   ]
  },
  {
   "cell_type": "code",
   "execution_count": 7,
   "metadata": {
    "colab": {
     "base_uri": "https://localhost:8080/",
     "height": 483
    },
    "id": "Qio3EVBLshNb",
    "outputId": "f2fc7873-5087-4491-c714-f59fce7a9255"
   },
   "outputs": [
    {
     "data": {
      "text/plain": [
       "(array([85405.,     0., 47886.]),\n",
       " array([-1.        , -0.33333333,  0.33333333,  1.        ]),\n",
       " <BarContainer object of 3 artists>)"
      ]
     },
     "execution_count": 7,
     "metadata": {},
     "output_type": "execute_result"
    },
    {
     "data": {
      "image/png": "[encoded data removed]",
      "text/plain": [
       "<Figure size 640x480 with 1 Axes>"
      ]
     },
     "metadata": {},
     "output_type": "display_data"
    }
   ],
   "source": [
    "import matplotlib.pyplot as plt\n",
    "plt.hist(y_train, bins=3, color='blue', edgecolor='black')"
   ]
  },
  {
   "cell_type": "code",
   "execution_count": 8,
   "metadata": {
    "colab": {
     "base_uri": "https://localhost:8080/",
     "height": 483
    },
    "id": "S3loOIKIXBTI",
    "outputId": "d4848765-0316-4610-f827-f86b4be96ae1"
   },
   "outputs": [
    {
     "data": {
      "text/plain": [
       "(array([13454.,     0.,  7787.]),\n",
       " array([-1.        , -0.33333333,  0.33333333,  1.        ]),\n",
       " <BarContainer object of 3 artists>)"
      ]
     },
     "execution_count": 8,
     "metadata": {},
     "output_type": "execute_result"
    },
    {
     "data": {
      "image/png": "[encoded data removed]",
      "text/plain": [
       "<Figure size 640x480 with 1 Axes>"
      ]
     },
     "metadata": {},
     "output_type": "display_data"
    }
   ],
   "source": [
    "plt.hist(y_test, bins=3, color='blue', edgecolor='black')"
   ]
  },
  {
   "cell_type": "code",
   "execution_count": null,
   "metadata": {
    "colab": {
     "base_uri": "https://localhost:8080/"
    },
    "id": "0t8YN_LOXGDp",
    "outputId": "e11e8fbe-b03f-4c34-d580-a251a0413630"
   },
   "outputs": [
    {
     "name": "stdout",
     "output_type": "stream",
     "text": [
      "*************** KNeighborsClassifier(n_neighbors=3) *****************\n",
      "Accuracy: 0.5773\n",
      "Precision: 0.3832\n",
      "Recall: 0.3316\n",
      "F1-score: 0.3556\n",
      "Confusion Matrix:\n",
      "[[12280  5004]\n",
      " [ 6266  3109]]\n",
      "*************** SVC(class_weight='balanced') *****************\n",
      "Accuracy: 0.5463\n",
      "Precision: 0.3996\n",
      "Recall: 0.5777\n",
      "F1-score: 0.4725\n",
      "Confusion Matrix:\n",
      "[[9148 8136]\n",
      " [3959 5416]]\n",
      "*************** GaussianNB() *****************\n",
      "Accuracy: 0.6483\n",
      "Precision: 0.4167\n",
      "Recall: 0.0005\n",
      "F1-score: 0.0011\n",
      "Confusion Matrix:\n",
      "[[17277     7]\n",
      " [ 9370     5]]\n"
     ]
    }
   ],
   "source": [
    "# OLD: without cross_validation - not good\n",
    "\n",
    "from sklearn.neighbors import KNeighborsClassifier\n",
    "from sklearn.svm import SVC\n",
    "from sklearn.naive_bayes import GaussianNB\n",
    "\n",
    "list_of_models = [KNeighborsClassifier(n_neighbors=3), SVC(class_weight='balanced'), GaussianNB()]\n",
    "\n",
    "results_df = pd.DataFrame(columns=['Model', 'Accuracy', 'Precision', 'Recall', 'F1-score', 'CM'])\n",
    "for model in list_of_models:\n",
    "  print(f\"*************** {model} *****************\")\n",
    "  model.fit(X_train, y_train)\n",
    "  y_pred = model.predict(X_test)\n",
    "\n",
    "  # Evaluate model\n",
    "  accuracy = accuracy_score(y_test, y_pred)\n",
    "  precision = precision_score(y_test, y_pred)\n",
    "  recall = recall_score(y_test, y_pred)\n",
    "  f1 = f1_score(y_test, y_pred)\n",
    "  print(f\"Accuracy: {accuracy:.4f}\")\n",
    "  print(f\"Precision: {precision:.4f}\")\n",
    "  print(f\"Recall: {recall:.4f}\")\n",
    "  print(f\"F1-score: {f1:.4f}\")\n",
    "\n",
    "  from sklearn.metrics import confusion_matrix\n",
    "\n",
    "  conf_matrix = confusion_matrix(y_test, y_pred)\n",
    "  print(\"Confusion Matrix:\")\n",
    "  print(conf_matrix)\n",
    "  results_df = results_df.append({'Model': str(model), 'Accuracy': accuracy:.4f,\n",
    "                                  \"Precision\": precision:.4f, \"Recall\": recall:.4f,\n",
    "                                  \"F1-score\": f1:.4f,\n",
    "                                  \"CM\": conf_matrix}, ignore_index=True)\n",
    "\n",
    "# Save the results to a CSV file\n",
    "results_df.to_csv('model_results.csv', index=False)\n",
    "\n"
   ]
  },
  {
   "cell_type": "code",
   "execution_count": null,
   "metadata": {
    "colab": {
     "base_uri": "https://localhost:8080/"
    },
    "id": "qozrBY-uI2VV",
    "outputId": "62f346dd-29c7-466c-d4b1-a4698ccbb366"
   },
   "outputs": [],
   "source": [
    "!pip install catboost"
   ]
  },
  {
   "cell_type": "code",
   "execution_count": null,
   "metadata": {},
   "outputs": [],
   "source": [
    "!pip install lightgbm"
   ]
  },
  {
   "cell_type": "code",
   "execution_count": 10,
   "metadata": {
    "colab": {
     "base_uri": "https://localhost:8080/"
    },
    "id": "GZ4b1AQuoPQU",
    "outputId": "aa0cf4b9-432d-4c30-9fe3-a4ec032e71b2"
   },
   "outputs": [
    {
     "name": "stdout",
     "output_type": "stream",
     "text": [
      "*************** KNeighborsClassifier(n_neighbors=3) *****************\n",
      "Accuracy: 0.5795\n",
      "Precision: 0.5376\n",
      "Recall: 0.5355\n",
      "F1-score: 0.5355\n",
      "*************** GaussianNB() *****************\n"
     ]
    },
    {
     "name": "stderr",
     "output_type": "stream",
     "text": [
      "C:\\Users\\sevza\\AppData\\Local\\Temp\\ipykernel_33784\\3265400033.py:40: FutureWarning: The behavior of DataFrame concatenation with empty or all-NA entries is deprecated. In a future version, this will no longer exclude empty or all-NA columns when determining the result dtypes. To retain the old behavior, exclude the relevant entries before the concat operation.\n",
      "  results_df = pd.concat([results_df, pd.DataFrame([{'Model': str(model), 'Test Accuracy': round(accuracy, 4),\n"
     ]
    },
    {
     "name": "stdout",
     "output_type": "stream",
     "text": [
      "Accuracy: 0.4542\n",
      "Precision: 0.5455\n",
      "Recall: 0.5329\n",
      "F1-score: 0.4412\n",
      "*************** LogisticRegression(class_weight='balanced') *****************\n",
      "Accuracy: 0.5642\n",
      "Precision: 0.5682\n",
      "Recall: 0.5733\n",
      "F1-score: 0.5580\n",
      "*************** RandomForestClassifier(class_weight='balanced') *****************\n",
      "Accuracy: 0.6229\n",
      "Precision: 0.5512\n",
      "Recall: 0.5236\n",
      "F1-score: 0.4890\n",
      "*************** GradientBoostingClassifier() *****************\n"
     ]
    },
    {
     "name": "stderr",
     "output_type": "stream",
     "text": [
      "C:\\Users\\sevza\\AppData\\Roaming\\Python\\Python311\\site-packages\\sklearn\\metrics\\_classification.py:1509: UndefinedMetricWarning: Precision is ill-defined and being set to 0.0 due to no predicted samples. Use `zero_division` parameter to control this behavior.\n",
      "  _warn_prf(average, modifier, f\"{metric.capitalize()} is\", len(result))\n"
     ]
    },
    {
     "name": "stdout",
     "output_type": "stream",
     "text": [
      "Accuracy: 0.6333\n",
      "Precision: 0.5494\n",
      "Recall: 0.5004\n",
      "F1-score: 0.3902\n",
      "*************** LGBMClassifier() *****************\n",
      "[LightGBM] [Warning] Found whitespace in feature_names, replace with underlines\n",
      "[LightGBM] [Info] Number of positive: 38308, number of negative: 68324\n",
      "[LightGBM] [Info] Auto-choosing row-wise multi-threading, the overhead of testing was 0.062988 seconds.\n",
      "You can set `force_row_wise=true` to remove the overhead.\n",
      "And if memory is not enough, you can set `force_col_wise=true`.\n",
      "[LightGBM] [Info] Total Bins 2070\n",
      "[LightGBM] [Info] Number of data points in the train set: 106632, number of used features: 659\n",
      "[LightGBM] [Info] [binary:BoostFromScore]: pavg=0.359254 -> initscore=-0.578602\n",
      "[LightGBM] [Info] Start training from score -0.578602\n"
     ]
    },
    {
     "name": "stderr",
     "output_type": "stream",
     "text": [
      "C:\\Users\\sevza\\AppData\\Roaming\\Python\\Python311\\site-packages\\sklearn\\metrics\\_classification.py:1509: UndefinedMetricWarning: Precision is ill-defined and being set to 0.0 due to no predicted samples. Use `zero_division` parameter to control this behavior.\n",
      "  _warn_prf(average, modifier, f\"{metric.capitalize()} is\", len(result))\n"
     ]
    },
    {
     "name": "stdout",
     "output_type": "stream",
     "text": [
      "[LightGBM] [Warning] Found whitespace in feature_names, replace with underlines\n",
      "[LightGBM] [Info] Number of positive: 38309, number of negative: 68324\n",
      "[LightGBM] [Info] Auto-choosing row-wise multi-threading, the overhead of testing was 0.062192 seconds.\n",
      "You can set `force_row_wise=true` to remove the overhead.\n",
      "And if memory is not enough, you can set `force_col_wise=true`.\n",
      "[LightGBM] [Info] Total Bins 2195\n",
      "[LightGBM] [Info] Number of data points in the train set: 106633, number of used features: 701\n",
      "[LightGBM] [Info] [binary:BoostFromScore]: pavg=0.359260 -> initscore=-0.578576\n",
      "[LightGBM] [Info] Start training from score -0.578576\n",
      "[LightGBM] [Warning] Found whitespace in feature_names, replace with underlines\n",
      "[LightGBM] [Info] Number of positive: 38309, number of negative: 68324\n",
      "[LightGBM] [Info] Auto-choosing row-wise multi-threading, the overhead of testing was 0.058366 seconds.\n",
      "You can set `force_row_wise=true` to remove the overhead.\n",
      "And if memory is not enough, you can set `force_col_wise=true`.\n",
      "[LightGBM] [Info] Total Bins 2210\n",
      "[LightGBM] [Info] Number of data points in the train set: 106633, number of used features: 706\n",
      "[LightGBM] [Info] [binary:BoostFromScore]: pavg=0.359260 -> initscore=-0.578576\n",
      "[LightGBM] [Info] Start training from score -0.578576\n",
      "[LightGBM] [Warning] Found whitespace in feature_names, replace with underlines\n",
      "[LightGBM] [Info] Number of positive: 38309, number of negative: 68324\n",
      "[LightGBM] [Info] Auto-choosing row-wise multi-threading, the overhead of testing was 0.059289 seconds.\n",
      "You can set `force_row_wise=true` to remove the overhead.\n",
      "And if memory is not enough, you can set `force_col_wise=true`.\n",
      "[LightGBM] [Info] Total Bins 2217\n",
      "[LightGBM] [Info] Number of data points in the train set: 106633, number of used features: 708\n",
      "[LightGBM] [Info] [binary:BoostFromScore]: pavg=0.359260 -> initscore=-0.578576\n",
      "[LightGBM] [Info] Start training from score -0.578576\n",
      "[LightGBM] [Warning] Found whitespace in feature_names, replace with underlines\n",
      "[LightGBM] [Info] Number of positive: 38309, number of negative: 68324\n",
      "[LightGBM] [Info] Auto-choosing row-wise multi-threading, the overhead of testing was 0.056549 seconds.\n",
      "You can set `force_row_wise=true` to remove the overhead.\n",
      "And if memory is not enough, you can set `force_col_wise=true`.\n",
      "[LightGBM] [Info] Total Bins 2061\n",
      "[LightGBM] [Info] Number of data points in the train set: 106633, number of used features: 656\n",
      "[LightGBM] [Info] [binary:BoostFromScore]: pavg=0.359260 -> initscore=-0.578576\n",
      "[LightGBM] [Info] Start training from score -0.578576\n",
      "[LightGBM] [Warning] Found whitespace in feature_names, replace with underlines\n",
      "[LightGBM] [Info] Number of positive: 47886, number of negative: 85405\n",
      "[LightGBM] [Info] Auto-choosing row-wise multi-threading, the overhead of testing was 0.068515 seconds.\n",
      "You can set `force_row_wise=true` to remove the overhead.\n",
      "And if memory is not enough, you can set `force_col_wise=true`.\n",
      "[LightGBM] [Info] Total Bins 2247\n",
      "[LightGBM] [Info] Number of data points in the train set: 133291, number of used features: 718\n",
      "[LightGBM] [Info] [binary:BoostFromScore]: pavg=0.359259 -> initscore=-0.578581\n",
      "[LightGBM] [Info] Start training from score -0.578581\n",
      "Accuracy: 0.6340\n",
      "Precision: 0.5789\n",
      "Recall: 0.5042\n",
      "F1-score: 0.4045\n",
      "*************** <catboost.core.CatBoostClassifier object at 0x000001A3844A1490> *****************\n"
     ]
    },
    {
     "name": "stderr",
     "output_type": "stream",
     "text": [
      "C:\\Users\\sevza\\AppData\\Roaming\\Python\\Python311\\site-packages\\sklearn\\metrics\\_classification.py:1509: UndefinedMetricWarning: Precision is ill-defined and being set to 0.0 due to no predicted samples. Use `zero_division` parameter to control this behavior.\n",
      "  _warn_prf(average, modifier, f\"{metric.capitalize()} is\", len(result))\n"
     ]
    },
    {
     "name": "stdout",
     "output_type": "stream",
     "text": [
      "Accuracy: 0.6338\n",
      "Precision: 0.5722\n",
      "Recall: 0.5113\n",
      "F1-score: 0.4324\n"
     ]
    }
   ],
   "source": [
    "# DO NOT TOUCH\n",
    "from sklearn.neighbors import KNeighborsClassifier\n",
    "from sklearn.svm import SVC\n",
    "from sklearn.naive_bayes import GaussianNB\n",
    "from sklearn.model_selection import cross_validate\n",
    "from sklearn.ensemble import RandomForestClassifier\n",
    "from sklearn.ensemble import GradientBoostingClassifier\n",
    "#from xgboost import XGBClassifier\n",
    "from lightgbm import LGBMClassifier\n",
    "from catboost import CatBoostClassifier\n",
    "\n",
    "\n",
    "list_of_models = [KNeighborsClassifier(n_neighbors=3),\n",
    "                  GaussianNB(),\n",
    "                  LogisticRegression(class_weight='balanced'),\n",
    "                  RandomForestClassifier(class_weight='balanced'),\n",
    "                  GradientBoostingClassifier(),\n",
    "                  #XGBClassifier(),\n",
    "                  LGBMClassifier(),\n",
    "                  CatBoostClassifier(verbose=False),\n",
    "                  #SVC(class_weight='balanced')\n",
    "                 ]\n",
    "results_df = pd.DataFrame(columns=['Model', 'Test Accuracy', 'Test Precision', 'Test Recall', 'Test F1-score', 'Mean_Accuracy', 'Std_Accuracy', 'Mean_Precision', 'Std_Precision', 'Mean_Recall', 'Std_Recall', 'Mean_F1-score', 'Std_F1-score'])\n",
    "\n",
    "for model in list_of_models:\n",
    "    print(f\"*************** {model} *****************\")\n",
    "    cv_results = cross_validate(model, X_train, y_train, cv=5, scoring=['f1', 'precision', 'recall', 'accuracy'])\n",
    "    y_pred = model.fit(X_train, y_train).predict(X_test)\n",
    "\n",
    "    # Evaluate model\n",
    "    accuracy = accuracy_score(y_test, y_pred)\n",
    "    precision = precision_score(y_test, y_pred, average='macro')\n",
    "    recall = recall_score(y_test, y_pred, average='macro')\n",
    "    f1 = f1_score(y_test, y_pred, average='macro')\n",
    "    print(f\"Accuracy: {accuracy:.4f}\")\n",
    "    print(f\"Precision: {precision:.4f}\")\n",
    "    print(f\"Recall: {recall:.4f}\")\n",
    "    print(f\"F1-score: {f1:.4f}\")\n",
    "\n",
    "    results_df = pd.concat([results_df, pd.DataFrame([{'Model': str(model), 'Test Accuracy': round(accuracy, 4),\n",
    "                                    \"Test Precision\": round(precision, 4), \"Test Recall\": round(recall, 4),\n",
    "                                    \"Test F1-score\": round(f1, 4),\n",
    "                                    \"Mean_Accuracy\": round(cv_results['test_accuracy'].mean(), 4),\n",
    "                                    \"Std_Accuracy\": round(cv_results['test_accuracy'].std(), 4),\n",
    "                                    \"Mean_Precision\": round(cv_results['test_precision'].mean(), 4),\n",
    "                                    \"Std_Precision\": round(cv_results['test_precision'].std(), 4),\n",
    "                                    \"Mean_Recall\": round(cv_results['test_recall'].mean(), 4),\n",
    "                                    \"Std_Recall\": round(cv_results['test_recall'].std(), 4),\n",
    "                                    \"Mean_F1-score\": round(cv_results['test_f1'].mean(), 4),\n",
    "                                    \"Std_F1-score\": round(cv_results['test_f1'].std(), 4)}])], ignore_index=True)\n",
    "# Save the results to a CSV file\n",
    "#res_path = '/content/drive/MyDrive/Data_Mining_Project/Results/'\n",
    "res_path = 'Results/'\n",
    "results_df.to_csv(res_path + 'model_results_macro.csv', index=False)\n",
    "\n"
   ]
  },
  {
   "cell_type": "code",
   "execution_count": 12,
   "metadata": {},
   "outputs": [
    {
     "name": "stdout",
     "output_type": "stream",
     "text": [
      "*************** SVC(class_weight='balanced') *****************\n",
      "Accuracy: 0.5420\n",
      "Precision: 0.5770\n",
      "Recall: 0.5784\n",
      "F1-score: 0.5419\n"
     ]
    }
   ],
   "source": [
    "# DO NOT TOUCH 2\n",
    "from sklearn.neighbors import KNeighborsClassifier\n",
    "from sklearn.svm import SVC\n",
    "from sklearn.naive_bayes import GaussianNB\n",
    "from sklearn.model_selection import cross_validate\n",
    "from sklearn.ensemble import RandomForestClassifier\n",
    "from sklearn.ensemble import GradientBoostingClassifier\n",
    "#from xgboost import XGBClassifier\n",
    "from lightgbm import LGBMClassifier\n",
    "from catboost import CatBoostClassifier\n",
    "\n",
    "\n",
    "list_of_models2 = [SVC(class_weight='balanced')]\n",
    "\n",
    "for model in list_of_models2:\n",
    "    print(f\"*************** {model} *****************\")\n",
    "    cv_results = cross_validate(model, X_train, y_train, cv=5, scoring=['f1', 'precision', 'recall', 'accuracy'])\n",
    "    y_pred = model.fit(X_train, y_train).predict(X_test)\n",
    "\n",
    "    # Evaluate model\n",
    "    accuracy = accuracy_score(y_test, y_pred)\n",
    "    precision = precision_score(y_test, y_pred, average='macro')\n",
    "    recall = recall_score(y_test, y_pred, average='macro')\n",
    "    f1 = f1_score(y_test, y_pred, average='macro')\n",
    "    print(f\"Accuracy: {accuracy:.4f}\")\n",
    "    print(f\"Precision: {precision:.4f}\")\n",
    "    print(f\"Recall: {recall:.4f}\")\n",
    "    print(f\"F1-score: {f1:.4f}\")\n",
    "\n",
    "    results_df = pd.concat([results_df, pd.DataFrame([{'Model': str(model), 'Test Accuracy': round(accuracy, 4),\n",
    "                                    \"Test Precision\": round(precision, 4), \"Test Recall\": round(recall, 4),\n",
    "                                    \"Test F1-score\": round(f1, 4),\n",
    "                                    \"Mean_Accuracy\": round(cv_results['test_accuracy'].mean(), 4),\n",
    "                                    \"Std_Accuracy\": round(cv_results['test_accuracy'].std(), 4),\n",
    "                                    \"Mean_Precision\": round(cv_results['test_precision'].mean(), 4),\n",
    "                                    \"Std_Precision\": round(cv_results['test_precision'].std(), 4),\n",
    "                                    \"Mean_Recall\": round(cv_results['test_recall'].mean(), 4),\n",
    "                                    \"Std_Recall\": round(cv_results['test_recall'].std(), 4),\n",
    "                                    \"Mean_F1-score\": round(cv_results['test_f1'].mean(), 4),\n",
    "                                    \"Std_F1-score\": round(cv_results['test_f1'].std(), 4)}])], ignore_index=True)\n",
    "# Save the results to a CSV file\n",
    "#res_path = '/content/drive/MyDrive/Data_Mining_Project/Results/'\n",
    "res_path = 'Results/'\n",
    "results_df.to_csv(res_path + 'model_results_macro.csv', index=False)\n",
    "\n"
   ]
  },
  {
   "cell_type": "markdown",
   "metadata": {},
   "source": [
    "Let's try some Neural Networks."
   ]
  },
  {
   "cell_type": "code",
   "execution_count": 16,
   "metadata": {},
   "outputs": [
    {
     "name": "stdout",
     "output_type": "stream",
     "text": [
      "0   -1\n",
      "1   -1\n",
      "2    1\n",
      "Name: outcome, dtype: int64\n",
      "[0. 0. 1.]\n"
     ]
    }
   ],
   "source": [
    "import numpy as np\n",
    "\n",
    "X_train = X_train.astype(np.float32)\n",
    "X_test = X_test.astype(np.float32)\n",
    "y_train = np.where(y_train == -1, 0.0, 1.0)  # Convert -1 to 0\n",
    "y_test = np.where(y_test == -1, 0.0, 1.0)    # Convert -1 to 0\n",
    "\n",
    "print(y_train_bu[:3])\n",
    "print(y_train[:3])"
   ]
  },
  {
   "cell_type": "code",
   "execution_count": 17,
   "metadata": {},
   "outputs": [
    {
     "name": "stdout",
     "output_type": "stream",
     "text": [
      "[0. 0. 1.]\n",
      "[0. 0. 1.]\n"
     ]
    }
   ],
   "source": [
    "X_train_bu = X_train.copy()\n",
    "X_test_bu = X_test.copy\n",
    "y_train_bu = y_train.copy()\n",
    "y_test_bu = y_test.copy()\n",
    "\n",
    "print(y_train_bu[:3])\n",
    "print(y_train[:3])"
   ]
  },
  {
   "cell_type": "code",
   "execution_count": 18,
   "metadata": {},
   "outputs": [],
   "source": [
    "import tensorflow as tf\n",
    "from tensorflow.keras.models import Sequential\n",
    "from tensorflow.keras.layers import Dense, BatchNormalization\n",
    "\n",
    "def select_model(num):\n",
    "    global model\n",
    "    if num == 1:\n",
    "        model = Sequential([\n",
    "                    Dense(512, input_shape=(763,), activation='relu'),\n",
    "                    #BatchNormalization(),  # Batch Normalization layer after Dense layer\n",
    "                    Dense(256, activation='relu'),\n",
    "                    #BatchNormalization(),  # Batch Normalization layer after Dense layer\n",
    "                    Dense(128, activation='relu'),\n",
    "                    #BatchNormalization(),  # Batch Normalization layer after Dense layer\n",
    "                    Dense(64, activation='relu'),\n",
    "                    #BatchNormalization(),  # Batch Normalization layer after Dense layer\n",
    "                    Dense(1, activation='sigmoid')  # Output layer with sigmoid activation\n",
    "                ])\n",
    "    elif num == 2:\n",
    "        model = Sequential([\n",
    "                    Dense(256, input_shape=(763,), activation='relu'),\n",
    "                    #BatchNormalization(),  # Batch Normalization layer after Dense layer\n",
    "                    Dense(128, activation='relu'),\n",
    "                    #BatchNormalization(),  # Batch Normalization layer after Dense layer\n",
    "                    Dense(64, activation='relu'),\n",
    "                    #BatchNormalization(),  # Batch Normalization layer after Dense layer\n",
    "                    Dense(1, activation='sigmoid')  # Output layer with sigmoid activation\n",
    "                ])\n",
    "    elif num == 3:\n",
    "        model = Sequential([\n",
    "                    Dense(256, input_shape=(763,), activation='relu'),\n",
    "                    BatchNormalization(),  # Batch Normalization layer after Dense layer\n",
    "                    Dense(128, activation='relu'),\n",
    "                    BatchNormalization(),  # Batch Normalization layer after Dense layer\n",
    "                    Dense(64, activation='relu'),\n",
    "                    BatchNormalization(),  # Batch Normalization layer after Dense layer\n",
    "                    Dense(1, activation='sigmoid')  # Output layer with sigmoid activation\n",
    "                ])\n",
    "\n",
    "    elif num == 4:\n",
    "        model = Sequential([\n",
    "                    Dense(128, input_shape=(763,), activation='relu'),\n",
    "                    #BatchNormalization(),  # Batch Normalization layer after Dense layer\n",
    "                    Dense(64, activation='relu'),\n",
    "                    #BatchNormalization(),  # Batch Normalization layer after Dense layer\n",
    "                    Dense(1, activation='sigmoid')  # Output layer with sigmoid activation\n",
    "                ])\n",
    "    elif num == 5:\n",
    "        model = Sequential([\n",
    "                    Dense(128, input_shape=(763,), activation='relu'),\n",
    "                    BatchNormalization(),  # Batch Normalization layer after Dense layer\n",
    "                    Dense(64, activation='relu'),\n",
    "                    BatchNormalization(),  # Batch Normalization layer after Dense layer\n",
    "                    Dense(1, activation='sigmoid')  # Output layer with sigmoid activation\n",
    "                ])"
   ]
  },
  {
   "cell_type": "markdown",
   "metadata": {},
   "source": [
    "Due to the time-limitation, we do not use cross-validation for the neural nets. Instead, we use the validation set (with the ratio of 0.2) to find the best model and prevent overfitting.\n",
    "\n",
    "#%tensorboard --logdir logs..../fit"
   ]
  },
  {
   "cell_type": "code",
   "execution_count": 37,
   "metadata": {
    "colab": {
     "base_uri": "https://localhost:8080/",
     "height": 214
    },
    "id": "eyxunF1RIYk7",
    "outputId": "2d68d22d-e594-4ade-dcb3-f2735829a808",
    "scrolled": true
   },
   "outputs": [],
   "source": [
    "from tensorflow.keras.callbacks import TensorBoard, LearningRateScheduler\n",
    "from sklearn.model_selection import train_test_split\n",
    "from sklearn.metrics import f1_score\n",
    "from numpy.random import seed\n",
    "import numpy as np\n",
    "import shutil\n",
    "\n",
    "epochs = 20\n",
    "\n",
    "def lr_schedule(epoch):\n",
    "    \"\"\"Learning rate schedule function.\"\"\"\n",
    "    initial_lr = 0.001\n",
    "    if epoch < epochs / 4:\n",
    "        return initial_lr\n",
    "    else:\n",
    "        return initial_lr * np.exp(-0.1 * epoch)\n",
    "\n",
    "# Splitting data into training and validation sets\n",
    "\n",
    "\n",
    "\n",
    "def train_NN(mod_num):\n",
    "    accuracy_list = []\n",
    "    precision_list = []\n",
    "    recall_list = []\n",
    "    f1_score_list = []\n",
    "    for a_seed in range(100, 111):\n",
    "        np.random.seed(a_seed)\n",
    "        seed(a_seed)\n",
    "        select_model(mod_num)\n",
    "        \n",
    "        X_train, X_val, y_train, y_val = train_test_split(X_train_bu, y_train_bu, test_size=0.2, random_state=a_seed)\n",
    "        \n",
    "        lr_scheduler = LearningRateScheduler(lr_schedule)\n",
    "        \n",
    "        # Compile the model\n",
    "        model.compile(optimizer='adam',\n",
    "                      loss='binary_crossentropy',\n",
    "                      metrics=[tf.keras.metrics.BinaryAccuracy(name='accuracy'),\n",
    "                               tf.keras.metrics.Precision(name='precision'),\n",
    "                               tf.keras.metrics.Recall(name='recall'),\n",
    "                               tf.keras.metrics.F1Score(name='f1_score', average='macro')])\n",
    "        \n",
    "        \n",
    "        # Train the model\n",
    "        history = model.fit(X_train, y_train, epochs=epochs, validation_data=(X_val, y_val), verbose=False,\n",
    "                            callbacks=[lr_scheduler])\n",
    "\n",
    "        loss, accuracy, precision, recall, f1_score = model.evaluate(X_val, y_val)\n",
    "        accuracy_list.append(accuracy)\n",
    "        precision_list.append(precision)\n",
    "        recall_list.append(recall)\n",
    "        f1_score_list.append(f1_score)\n",
    "\n",
    "\n",
    "    \n",
    "    \n",
    "    # Retrain and Evaluate the model\n",
    "    # Clear log directory if it exists\n",
    "    log_dir = \"logs_ModelNum\" + str(mod_num) + \"/fit/\"\n",
    "    if os.path.exists(log_dir):\n",
    "        shutil.rmtree(log_dir)\n",
    "    os.makedirs(log_dir)\n",
    "    sm_checkpoint = tf.keras.callbacks.ModelCheckpoint(res_path + 'checkpoints/best_model_' + str(mod_num) + '.h5', \n",
    "                                \t\t\t\t\t\t\tmonitor='val_f1_score', verbose=0, \n",
    "                                \t\t\t\t\t\t\tsave_best_only=True, mode='max')\n",
    "    # Define TensorBoard callback\n",
    "    tensorboard_callback = TensorBoard(log_dir=log_dir, histogram_freq=1)\n",
    "    select_model(mod_num)\n",
    "    lr_scheduler = LearningRateScheduler(lr_schedule)\n",
    "    \n",
    "    model.compile(optimizer='adam',\n",
    "                      loss='binary_crossentropy',\n",
    "                      metrics=[tf.keras.metrics.BinaryAccuracy(name='accuracy'),\n",
    "                               tf.keras.metrics.Precision(name='precision'),\n",
    "                               tf.keras.metrics.Recall(name='recall'),\n",
    "                               tf.keras.metrics.F1Score(name='f1_score', average='macro')])\n",
    "\n",
    "    model.summary()\n",
    "    history = model.fit(X_train_bu, y_train_bu, epochs=epochs, validation_data=(X_test, y_test), verbose=False,\n",
    "                            callbacks=[tensorboard_callback, lr_scheduler, sm_checkpoint])\n",
    "\n",
    "    loss, accuracy, precision, recall, f1_score = model.evaluate(X_test, y_test)\n",
    "    \n",
    "    print(f'Test Loss: {loss:.4f}')\n",
    "    print(f'Test Accuracy: {accuracy:.4f}')\n",
    "    print(f'Test Precision: {precision:.4f}')\n",
    "    print(f'Test Recall: {recall:.4f}')\n",
    "    print(f'Test F1 Score: {f1_score:.4f}')\n",
    "    print()\n",
    "    print(\"From Cross_validation:\")\n",
    "    print(f\"Accuracy: {np.mean(accuracy_list):.4f}, std: {np.std(accuracy_list):.4f}\")\n",
    "    print(f\"Precision: {np.mean(precision_list):.4f}, std: {np.std(precision_list):.4f}\")\n",
    "    print(f\"Recall: {np.mean(recall_list):.4f}, std: {np.std(recall_list):.4f}\")\n",
    "    print(f\"F1-Score: {np.mean(f1_score_list):.4f}, std: {np.std(f1_score_list):.4f}\")\n",
    "\n",
    "    "
   ]
  },
  {
   "cell_type": "code",
   "execution_count": 38,
   "metadata": {},
   "outputs": [
    {
     "name": "stdout",
     "output_type": "stream",
     "text": [
      "834/834 [==============================] - 1s 1ms/step - loss: 4.9770 - accuracy: 0.5732 - precision: 0.4105 - recall: 0.4058 - f1_score: 0.5630\n",
      "834/834 [==============================] - 1s 1ms/step - loss: 4.9566 - accuracy: 0.5788 - precision: 0.4077 - recall: 0.3923 - f1_score: 0.5575\n",
      "834/834 [==============================] - 1s 1ms/step - loss: 5.0519 - accuracy: 0.5719 - precision: 0.4125 - recall: 0.4056 - f1_score: 0.5659\n",
      "834/834 [==============================] - 1s 1ms/step - loss: 5.3663 - accuracy: 0.5806 - precision: 0.4172 - recall: 0.4117 - f1_score: 0.5575\n",
      "834/834 [==============================] - 1s 1ms/step - loss: 5.2946 - accuracy: 0.5818 - precision: 0.4142 - recall: 0.3931 - f1_score: 0.5593\n",
      "834/834 [==============================] - 1s 1ms/step - loss: 5.4266 - accuracy: 0.5775 - precision: 0.4144 - recall: 0.4108 - f1_score: 0.5590\n",
      "834/834 [==============================] - 1s 1ms/step - loss: 5.1656 - accuracy: 0.5734 - precision: 0.4082 - recall: 0.4156 - f1_score: 0.5611\n",
      "834/834 [==============================] - 1s 1ms/step - loss: 5.4548 - accuracy: 0.5748 - precision: 0.4053 - recall: 0.3990 - f1_score: 0.5518\n",
      "834/834 [==============================] - 1s 1ms/step - loss: 5.4716 - accuracy: 0.5764 - precision: 0.4061 - recall: 0.3851 - f1_score: 0.5549\n",
      "834/834 [==============================] - 1s 1ms/step - loss: 5.1997 - accuracy: 0.5812 - precision: 0.4152 - recall: 0.4039 - f1_score: 0.5631\n",
      "834/834 [==============================] - 1s 1ms/step - loss: 5.6121 - accuracy: 0.5703 - precision: 0.3967 - recall: 0.3895 - f1_score: 0.5492\n",
      "Model: \"sequential_22\"\n",
      "_________________________________________________________________\n",
      " Layer (type)                Output Shape              Param #   \n",
      "=================================================================\n",
      " dense_104 (Dense)           (None, 512)               391168    \n",
      "                                                                 \n",
      " dense_105 (Dense)           (None, 256)               131328    \n",
      "                                                                 \n",
      " dense_106 (Dense)           (None, 128)               32896     \n",
      "                                                                 \n",
      " dense_107 (Dense)           (None, 64)                8256      \n",
      "                                                                 \n",
      " dense_108 (Dense)           (None, 1)                 65        \n",
      "                                                                 \n",
      "=================================================================\n",
      "Total params: 563713 (2.15 MB)\n",
      "Trainable params: 563713 (2.15 MB)\n",
      "Non-trainable params: 0 (0.00 Byte)\n",
      "_________________________________________________________________\n"
     ]
    },
    {
     "name": "stderr",
     "output_type": "stream",
     "text": [
      "C:\\Python-3.11.4\\Lib\\site-packages\\keras\\src\\engine\\training.py:3000: UserWarning: You are saving your model as an HDF5 file via `model.save()`. This file format is considered legacy. We recommend using instead the native Keras format, e.g. `model.save('my_model.keras')`.\n",
      "  saving_api.save_model(\n"
     ]
    },
    {
     "name": "stdout",
     "output_type": "stream",
     "text": [
      "664/664 [==============================] - 1s 1ms/step - loss: 4.7983 - accuracy: 0.5692 - precision: 0.4181 - recall: 0.4474 - f1_score: 0.5636\n",
      "Test Loss: 4.7983\n",
      "Test Accuracy: 0.5692\n",
      "Test Precision: 0.4181\n",
      "Test Recall: 0.4474\n",
      "Test F1 Score: 0.5636\n",
      "\n",
      "From Cross_validation:\n",
      "Accuracy: 0.5763, std: 0.0038\n",
      "Precision: 0.4098, std: 0.0056\n",
      "Recall: 0.4011, std: 0.0095\n",
      "F1-Score: 0.5584, std: 0.0048\n"
     ]
    }
   ],
   "source": [
    "train_NN(1)"
   ]
  },
  {
   "cell_type": "code",
   "execution_count": 39,
   "metadata": {},
   "outputs": [
    {
     "name": "stdout",
     "output_type": "stream",
     "text": [
      "834/834 [==============================] - 1s 1ms/step - loss: 3.8274 - accuracy: 0.5791 - precision: 0.4157 - recall: 0.3960 - f1_score: 0.5665\n",
      "834/834 [==============================] - 1s 1ms/step - loss: 3.7227 - accuracy: 0.5837 - precision: 0.4174 - recall: 0.4144 - f1_score: 0.5632\n",
      "834/834 [==============================] - 1s 1ms/step - loss: 3.8186 - accuracy: 0.5793 - precision: 0.4186 - recall: 0.3901 - f1_score: 0.5699\n",
      "834/834 [==============================] - 1s 1ms/step - loss: 3.6063 - accuracy: 0.5827 - precision: 0.4176 - recall: 0.3994 - f1_score: 0.5677\n",
      "834/834 [==============================] - 1s 1ms/step - loss: 3.8669 - accuracy: 0.5712 - precision: 0.3999 - recall: 0.3838 - f1_score: 0.5644\n",
      "834/834 [==============================] - 1s 1ms/step - loss: 3.8768 - accuracy: 0.5756 - precision: 0.4096 - recall: 0.3969 - f1_score: 0.5673\n",
      "834/834 [==============================] - 1s 1ms/step - loss: 3.6716 - accuracy: 0.5753 - precision: 0.4080 - recall: 0.4030 - f1_score: 0.5684\n",
      "834/834 [==============================] - 1s 1ms/step - loss: 3.6995 - accuracy: 0.5792 - precision: 0.4110 - recall: 0.4020 - f1_score: 0.5659\n",
      "834/834 [==============================] - 1s 1ms/step - loss: 3.3267 - accuracy: 0.5779 - precision: 0.4086 - recall: 0.3889 - f1_score: 0.5714\n",
      "834/834 [==============================] - 1s 1ms/step - loss: 3.7247 - accuracy: 0.5779 - precision: 0.4134 - recall: 0.4159 - f1_score: 0.5664\n",
      "834/834 [==============================] - 1s 1ms/step - loss: 3.7933 - accuracy: 0.5743 - precision: 0.3996 - recall: 0.3809 - f1_score: 0.5624\n",
      "Model: \"sequential_34\"\n",
      "_________________________________________________________________\n",
      " Layer (type)                Output Shape              Param #   \n",
      "=================================================================\n",
      " dense_153 (Dense)           (None, 256)               195584    \n",
      "                                                                 \n",
      " dense_154 (Dense)           (None, 128)               32896     \n",
      "                                                                 \n",
      " dense_155 (Dense)           (None, 64)                8256      \n",
      "                                                                 \n",
      " dense_156 (Dense)           (None, 1)                 65        \n",
      "                                                                 \n",
      "=================================================================\n",
      "Total params: 236801 (925.00 KB)\n",
      "Trainable params: 236801 (925.00 KB)\n",
      "Non-trainable params: 0 (0.00 Byte)\n",
      "_________________________________________________________________\n"
     ]
    },
    {
     "name": "stderr",
     "output_type": "stream",
     "text": [
      "C:\\Python-3.11.4\\Lib\\site-packages\\keras\\src\\engine\\training.py:3000: UserWarning: You are saving your model as an HDF5 file via `model.save()`. This file format is considered legacy. We recommend using instead the native Keras format, e.g. `model.save('my_model.keras')`.\n",
      "  saving_api.save_model(\n"
     ]
    },
    {
     "name": "stdout",
     "output_type": "stream",
     "text": [
      "664/664 [==============================] - 1s 1ms/step - loss: 3.1856 - accuracy: 0.5681 - precision: 0.4223 - recall: 0.4836 - f1_score: 0.5717\n",
      "Test Loss: 3.1856\n",
      "Test Accuracy: 0.5681\n",
      "Test Precision: 0.4223\n",
      "Test Recall: 0.4836\n",
      "Test F1 Score: 0.5717\n",
      "\n",
      "From Cross_validation:\n",
      "Accuracy: 0.5778, std: 0.0034\n",
      "Precision: 0.4109, std: 0.0063\n",
      "Recall: 0.3974, std: 0.0107\n",
      "F1-Score: 0.5667, std: 0.0026\n"
     ]
    }
   ],
   "source": [
    "train_NN(2)"
   ]
  },
  {
   "cell_type": "code",
   "execution_count": 40,
   "metadata": {},
   "outputs": [
    {
     "name": "stdout",
     "output_type": "stream",
     "text": [
      "834/834 [==============================] - 1s 1ms/step - loss: 1.1193 - accuracy: 0.5798 - precision: 0.4148 - recall: 0.3866 - f1_score: 0.5323\n",
      "834/834 [==============================] - 1s 1ms/step - loss: 1.1196 - accuracy: 0.5823 - precision: 0.4134 - recall: 0.4004 - f1_score: 0.5269\n",
      "834/834 [==============================] - 1s 1ms/step - loss: 1.1187 - accuracy: 0.5769 - precision: 0.4134 - recall: 0.3775 - f1_score: 0.5351\n",
      "834/834 [==============================] - 1s 1ms/step - loss: 1.0878 - accuracy: 0.5800 - precision: 0.4130 - recall: 0.3920 - f1_score: 0.5299\n",
      "834/834 [==============================] - 1s 1ms/step - loss: 1.1258 - accuracy: 0.5803 - precision: 0.4116 - recall: 0.3889 - f1_score: 0.5291\n",
      "834/834 [==============================] - 1s 1ms/step - loss: 1.1207 - accuracy: 0.5818 - precision: 0.4186 - recall: 0.4064 - f1_score: 0.5307\n",
      "834/834 [==============================] - 1s 1ms/step - loss: 1.1136 - accuracy: 0.5796 - precision: 0.4098 - recall: 0.3859 - f1_score: 0.5288\n",
      "834/834 [==============================] - 1s 1ms/step - loss: 1.0950 - accuracy: 0.5794 - precision: 0.4082 - recall: 0.3858 - f1_score: 0.5277\n",
      "834/834 [==============================] - 1s 1ms/step - loss: 1.1444 - accuracy: 0.5734 - precision: 0.4007 - recall: 0.3762 - f1_score: 0.5290\n",
      "834/834 [==============================] - 1s 1ms/step - loss: 1.1138 - accuracy: 0.5809 - precision: 0.4148 - recall: 0.4039 - f1_score: 0.5289\n",
      "834/834 [==============================] - 1s 1ms/step - loss: 1.1268 - accuracy: 0.5750 - precision: 0.3996 - recall: 0.3770 - f1_score: 0.5265\n",
      "Model: \"sequential_46\"\n",
      "_________________________________________________________________\n",
      " Layer (type)                Output Shape              Param #   \n",
      "=================================================================\n",
      " dense_201 (Dense)           (None, 256)               195584    \n",
      "                                                                 \n",
      " batch_normalization_38 (Ba  (None, 256)               1024      \n",
      " tchNormalization)                                               \n",
      "                                                                 \n",
      " dense_202 (Dense)           (None, 128)               32896     \n",
      "                                                                 \n",
      " batch_normalization_39 (Ba  (None, 128)               512       \n",
      " tchNormalization)                                               \n",
      "                                                                 \n",
      " dense_203 (Dense)           (None, 64)                8256      \n",
      "                                                                 \n",
      " batch_normalization_40 (Ba  (None, 64)                256       \n",
      " tchNormalization)                                               \n",
      "                                                                 \n",
      " dense_204 (Dense)           (None, 1)                 65        \n",
      "                                                                 \n",
      "=================================================================\n",
      "Total params: 238593 (932.00 KB)\n",
      "Trainable params: 237697 (928.50 KB)\n",
      "Non-trainable params: 896 (3.50 KB)\n",
      "_________________________________________________________________\n"
     ]
    },
    {
     "name": "stderr",
     "output_type": "stream",
     "text": [
      "C:\\Python-3.11.4\\Lib\\site-packages\\keras\\src\\engine\\training.py:3000: UserWarning: You are saving your model as an HDF5 file via `model.save()`. This file format is considered legacy. We recommend using instead the native Keras format, e.g. `model.save('my_model.keras')`.\n",
      "  saving_api.save_model(\n"
     ]
    },
    {
     "name": "stdout",
     "output_type": "stream",
     "text": [
      "664/664 [==============================] - 1s 1ms/step - loss: 1.0276 - accuracy: 0.5673 - precision: 0.4153 - recall: 0.4420 - f1_score: 0.5365\n",
      "Test Loss: 1.0276\n",
      "Test Accuracy: 0.5673\n",
      "Test Precision: 0.4153\n",
      "Test Recall: 0.4420\n",
      "Test F1 Score: 0.5365\n",
      "\n",
      "From Cross_validation:\n",
      "Accuracy: 0.5790, std: 0.0027\n",
      "Precision: 0.4107, std: 0.0056\n",
      "Recall: 0.3891, std: 0.0101\n",
      "F1-Score: 0.5295, std: 0.0024\n"
     ]
    }
   ],
   "source": [
    "train_NN(3)"
   ]
  },
  {
   "cell_type": "code",
   "execution_count": 41,
   "metadata": {},
   "outputs": [
    {
     "name": "stdout",
     "output_type": "stream",
     "text": [
      "834/834 [==============================] - 1s 837us/step - loss: 1.0972 - accuracy: 0.5768 - precision: 0.4100 - recall: 0.3802 - f1_score: 0.5798\n",
      "834/834 [==============================] - 1s 885us/step - loss: 1.1028 - accuracy: 0.5772 - precision: 0.4009 - recall: 0.3684 - f1_score: 0.5749\n",
      "834/834 [==============================] - 1s 856us/step - loss: 1.1286 - accuracy: 0.5755 - precision: 0.4127 - recall: 0.3834 - f1_score: 0.5825\n",
      "834/834 [==============================] - 1s 789us/step - loss: 1.0844 - accuracy: 0.5837 - precision: 0.4159 - recall: 0.3829 - f1_score: 0.5768\n",
      "834/834 [==============================] - 1s 793us/step - loss: 1.1401 - accuracy: 0.5803 - precision: 0.4068 - recall: 0.3648 - f1_score: 0.5779\n",
      "834/834 [==============================] - 1s 1ms/step - loss: 1.0975 - accuracy: 0.5752 - precision: 0.4065 - recall: 0.3831 - f1_score: 0.5792\n",
      "834/834 [==============================] - 1s 932us/step - loss: 1.1092 - accuracy: 0.5741 - precision: 0.4031 - recall: 0.3850 - f1_score: 0.5773\n",
      "834/834 [==============================] - 1s 858us/step - loss: 1.0877 - accuracy: 0.5786 - precision: 0.4097 - recall: 0.3985 - f1_score: 0.5755\n",
      "834/834 [==============================] - 1s 900us/step - loss: 1.1103 - accuracy: 0.5766 - precision: 0.4056 - recall: 0.3812 - f1_score: 0.5765\n",
      "834/834 [==============================] - 1s 833us/step - loss: 1.1020 - accuracy: 0.5872 - precision: 0.4198 - recall: 0.3880 - f1_score: 0.5777\n",
      "834/834 [==============================] - 1s 805us/step - loss: 1.1227 - accuracy: 0.5782 - precision: 0.4014 - recall: 0.3678 - f1_score: 0.5745\n",
      "Model: \"sequential_58\"\n",
      "_________________________________________________________________\n",
      " Layer (type)                Output Shape              Param #   \n",
      "=================================================================\n",
      " dense_238 (Dense)           (None, 128)               97792     \n",
      "                                                                 \n",
      " dense_239 (Dense)           (None, 64)                8256      \n",
      "                                                                 \n",
      " dense_240 (Dense)           (None, 1)                 65        \n",
      "                                                                 \n",
      "=================================================================\n",
      "Total params: 106113 (414.50 KB)\n",
      "Trainable params: 106113 (414.50 KB)\n",
      "Non-trainable params: 0 (0.00 Byte)\n",
      "_________________________________________________________________\n"
     ]
    },
    {
     "name": "stderr",
     "output_type": "stream",
     "text": [
      "C:\\Python-3.11.4\\Lib\\site-packages\\keras\\src\\engine\\training.py:3000: UserWarning: You are saving your model as an HDF5 file via `model.save()`. This file format is considered legacy. We recommend using instead the native Keras format, e.g. `model.save('my_model.keras')`.\n",
      "  saving_api.save_model(\n"
     ]
    },
    {
     "name": "stdout",
     "output_type": "stream",
     "text": [
      "664/664 [==============================] - 1s 817us/step - loss: 1.0812 - accuracy: 0.5770 - precision: 0.4211 - recall: 0.4102 - f1_score: 0.5791\n",
      "Test Loss: 1.0812\n",
      "Test Accuracy: 0.5770\n",
      "Test Precision: 0.4211\n",
      "Test Recall: 0.4102\n",
      "Test F1 Score: 0.5791\n",
      "\n",
      "From Cross_validation:\n",
      "Accuracy: 0.5785, std: 0.0037\n",
      "Precision: 0.4084, std: 0.0057\n",
      "Recall: 0.3803, std: 0.0094\n",
      "F1-Score: 0.5775, std: 0.0022\n"
     ]
    }
   ],
   "source": [
    "train_NN(4)"
   ]
  },
  {
   "cell_type": "code",
   "execution_count": 42,
   "metadata": {},
   "outputs": [
    {
     "name": "stdout",
     "output_type": "stream",
     "text": [
      "834/834 [==============================] - 1s 842us/step - loss: 0.8925 - accuracy: 0.5791 - precision: 0.4143 - recall: 0.3882 - f1_score: 0.5323\n",
      "834/834 [==============================] - 1s 821us/step - loss: 0.8859 - accuracy: 0.5830 - precision: 0.4097 - recall: 0.3767 - f1_score: 0.5269\n",
      "834/834 [==============================] - 1s 804us/step - loss: 0.8882 - accuracy: 0.5821 - precision: 0.4184 - recall: 0.3695 - f1_score: 0.5351\n",
      "834/834 [==============================] - 1s 824us/step - loss: 0.8938 - accuracy: 0.5839 - precision: 0.4128 - recall: 0.3648 - f1_score: 0.5299\n",
      "834/834 [==============================] - 1s 957us/step - loss: 0.9048 - accuracy: 0.5824 - precision: 0.4084 - recall: 0.3592 - f1_score: 0.5290\n",
      "834/834 [==============================] - 1s 946us/step - loss: 0.8933 - accuracy: 0.5807 - precision: 0.4124 - recall: 0.3788 - f1_score: 0.5307\n",
      "834/834 [==============================] - 1s 918us/step - loss: 0.8937 - accuracy: 0.5781 - precision: 0.4064 - recall: 0.3779 - f1_score: 0.5288\n",
      "834/834 [==============================] - 1s 927us/step - loss: 0.8779 - accuracy: 0.5893 - precision: 0.4196 - recall: 0.3806 - f1_score: 0.5277\n",
      "834/834 [==============================] - 1s 878us/step - loss: 0.9090 - accuracy: 0.5797 - precision: 0.4078 - recall: 0.3737 - f1_score: 0.5290\n",
      "834/834 [==============================] - 1s 893us/step - loss: 0.9013 - accuracy: 0.5829 - precision: 0.4109 - recall: 0.3697 - f1_score: 0.5289\n",
      "834/834 [==============================] - 1s 887us/step - loss: 0.8968 - accuracy: 0.5809 - precision: 0.4047 - recall: 0.3673 - f1_score: 0.5265\n",
      "Model: \"sequential_70\"\n",
      "_________________________________________________________________\n",
      " Layer (type)                Output Shape              Param #   \n",
      "=================================================================\n",
      " dense_274 (Dense)           (None, 128)               97792     \n",
      "                                                                 \n",
      " batch_normalization_63 (Ba  (None, 128)               512       \n",
      " tchNormalization)                                               \n",
      "                                                                 \n",
      " dense_275 (Dense)           (None, 64)                8256      \n",
      "                                                                 \n",
      " batch_normalization_64 (Ba  (None, 64)                256       \n",
      " tchNormalization)                                               \n",
      "                                                                 \n",
      " dense_276 (Dense)           (None, 1)                 65        \n",
      "                                                                 \n",
      "=================================================================\n",
      "Total params: 106881 (417.50 KB)\n",
      "Trainable params: 106497 (416.00 KB)\n",
      "Non-trainable params: 384 (1.50 KB)\n",
      "_________________________________________________________________\n"
     ]
    },
    {
     "name": "stderr",
     "output_type": "stream",
     "text": [
      "C:\\Python-3.11.4\\Lib\\site-packages\\keras\\src\\engine\\training.py:3000: UserWarning: You are saving your model as an HDF5 file via `model.save()`. This file format is considered legacy. We recommend using instead the native Keras format, e.g. `model.save('my_model.keras')`.\n",
      "  saving_api.save_model(\n"
     ]
    },
    {
     "name": "stdout",
     "output_type": "stream",
     "text": [
      "664/664 [==============================] - 1s 852us/step - loss: 0.8093 - accuracy: 0.5749 - precision: 0.4155 - recall: 0.3921 - f1_score: 0.5365\n",
      "Test Loss: 0.8093\n",
      "Test Accuracy: 0.5749\n",
      "Test Precision: 0.4155\n",
      "Test Recall: 0.3921\n",
      "Test F1 Score: 0.5365\n",
      "\n",
      "From Cross_validation:\n",
      "Accuracy: 0.5820, std: 0.0029\n",
      "Precision: 0.4114, std: 0.0045\n",
      "Recall: 0.3733, std: 0.0078\n",
      "F1-Score: 0.5295, std: 0.0024\n"
     ]
    }
   ],
   "source": [
    "train_NN(5)"
   ]
  },
  {
   "cell_type": "code",
   "execution_count": null,
   "metadata": {},
   "outputs": [],
   "source": []
  },
  {
   "cell_type": "code",
   "execution_count": null,
   "metadata": {},
   "outputs": [],
   "source": []
  },
  {
   "cell_type": "code",
   "execution_count": 87,
   "metadata": {
    "id": "1Oc9esJaCTf9"
   },
   "outputs": [
    {
     "name": "stdout",
     "output_type": "stream",
     "text": [
      "834/834 [==============================] - 1s 731us/step\n",
      "Accuracy: 0.5801\n",
      "Precision: 0.4022\n",
      "Recall: 0.3989\n",
      "F1-score: 0.4006\n"
     ]
    }
   ],
   "source": [
    "# Leave it (not important)\n",
    "\n",
    "\n",
    "import sklearn\n",
    "y_pred = model.predict(X_test)\n",
    "y_pred = np.where(y_pred >= 0.5, 1, 0)\n",
    "# Evaluate model\n",
    "accuracy = accuracy_score(y_test, y_pred)\n",
    "precision = precision_score(y_test, y_pred)\n",
    "recall = recall_score(y_test, y_pred)\n",
    "f1 = sklearn.metrics.f1_score(y_test, y_pred)\n",
    "print(f\"Accuracy: {accuracy:.4f}\")\n",
    "print(f\"Precision: {precision:.4f}\")\n",
    "print(f\"Recall: {recall:.4f}\")\n",
    "print(f\"F1-score: {f1:.4f}\")"
   ]
  }
 ],
 "metadata": {
  "colab": {
   "provenance": []
  },
  "kernelspec": {
   "display_name": "Python 3 (ipykernel)",
   "language": "python",
   "name": "python3"
  },
  "language_info": {
   "codemirror_mode": {
    "name": "ipython",
    "version": 3
   },
   "file_extension": ".py",
   "mimetype": "text/x-python",
   "name": "python",
   "nbconvert_exporter": "python",
   "pygments_lexer": "ipython3",
   "version": "3.11.4"
  }
 },
 "nbformat": 4,
 "nbformat_minor": 4
}
